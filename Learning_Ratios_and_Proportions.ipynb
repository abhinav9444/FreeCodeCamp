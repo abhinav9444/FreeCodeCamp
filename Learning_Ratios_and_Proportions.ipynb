{
  "nbformat": 4,
  "nbformat_minor": 0,
  "metadata": {
    "colab": {
      "provenance": [],
      "authorship_tag": "ABX9TyM9GRLqXayewFk8nKA6vGsJ",
      "include_colab_link": true
    },
    "kernelspec": {
      "name": "python3",
      "display_name": "Python 3"
    },
    "language_info": {
      "name": "python"
    }
  },
  "cells": [
    {
      "cell_type": "markdown",
      "metadata": {
        "id": "view-in-github",
        "colab_type": "text"
      },
      "source": [
        "<a href=\"https://colab.research.google.com/github/abhinav9444/FreeCodeCamp/blob/main/Learning_Ratios_and_Proportions.ipynb\" target=\"_parent\"><img src=\"https://colab.research.google.com/assets/colab-badge.svg\" alt=\"Open In Colab\"/></a>"
      ]
    },
    {
      "cell_type": "markdown",
      "source": [
        "# Ratios and Proportions"
      ],
      "metadata": {
        "id": "gb2-6pEIpJKE"
      }
    },
    {
      "cell_type": "markdown",
      "source": [],
      "metadata": {
        "id": "JpcHE56fq26O"
      }
    },
    {
      "cell_type": "markdown",
      "source": [
        "**Proportion**\n",
        "\n",
        "$\\frac{n1}{d1}=\\frac{n2}{d2}$"
      ],
      "metadata": {
        "id": "zaQGbVj5q5E1"
      }
    },
    {
      "cell_type": "code",
      "source": [
        "#Put a zero in for the unknown value\n",
        "n1=1\n",
        "d1=2\n",
        "n2=42\n",
        "d2=0\n",
        "\n",
        "if n2==0:\n",
        "  answer=d2*(n1/d1)\n",
        "  print(\"n2 = \",answer)\n",
        "if d2==0:\n",
        "  answer=n2*(d1/n1)\n",
        "  print(\"d2 = \",answer)"
      ],
      "metadata": {
        "colab": {
          "base_uri": "https://localhost:8080/"
        },
        "id": "JvbLrhZVq9dL",
        "outputId": "0676498a-b84d-456f-fd46-f675a963a999"
      },
      "execution_count": null,
      "outputs": [
        {
          "output_type": "stream",
          "name": "stdout",
          "text": [
            "d2 =  84.0\n"
          ]
        }
      ]
    },
    {
      "cell_type": "markdown",
      "source": [
        "Ratio and Proportions Use Cases :\n",
        "\n",
        "\n",
        "1.   Currency Conversion\n",
        "2.   Unit Conversion (Distance)\n",
        "\n"
      ],
      "metadata": {
        "id": "bCXsBz4a8rBo"
      }
    },
    {
      "cell_type": "markdown",
      "source": [
        "**Practice Problems**"
      ],
      "metadata": {
        "id": "0vSIEsQq9c5m"
      }
    },
    {
      "cell_type": "code",
      "source": [
        "# converts string input (even fractions) to float\n",
        "def string_frac(in_string):\n",
        "    if \"/\" in in_string:\n",
        "        nd = in_string.split(\"/\")\n",
        "        n = float(nd[0])\n",
        "        d = float(nd[1])\n",
        "        ans = n/d\n",
        "        return ans\n",
        "    else:\n",
        "        ans = float(in_string)\n",
        "        return ans\n",
        "\n",
        "\n",
        "# Simplest one-step addition\n",
        "def one_step_add():\n",
        "    import random\n",
        "    # Display problem\n",
        "    a = random.randint(-4,10)\n",
        "    b = random.randint(2,24)\n",
        "    print(\"x + \", a, \" = \", b)\n",
        "    ans = float(input(\"x = \"))\n",
        "    answer = b-a\n",
        "    # Test input\n",
        "    if ans==answer:\n",
        "        print(\"Correct! \\n\")\n",
        "    else:\n",
        "        print(\"Try again\")\n",
        "        print(\"The correct answer is \", answer, \"\\n\")\n",
        "\n",
        "\n",
        "# One-step additon with negaive numbers\n",
        "def one_step_subtract():\n",
        "    import random\n",
        "    a = random.randint(-19,-1)\n",
        "    b = random.randint(2,24)\n",
        "    print(a, \" + x = \", b)\n",
        "    ans = float(input(\"x = \"))\n",
        "    # test\n",
        "    answer = b-a\n",
        "    if ans==answer:\n",
        "        print(\"Correct! \\n\")\n",
        "    else:\n",
        "        print(\"Try again\")\n",
        "        print(\"The correct answer is \", answer, \"\\n\")\n",
        "\n",
        "# One-step multiply\n",
        "def one_step_mult():\n",
        "    # Uses string_frac(<input string>)\n",
        "    import random\n",
        "    a = random.randint(1,11)\n",
        "    b = random.randint(2,24)\n",
        "    print(a, \"x = \", b)\n",
        "    print(\"Round your answer to two decimal places.\")\n",
        "    ans_in = (input(\"x = \"))\n",
        "    answer = round(b/a,2)\n",
        "    # test\n",
        "    if string_frac(ans_in)==answer:\n",
        "        print(\"Correct! \\n\")\n",
        "    else:\n",
        "        print(\"Try again\")\n",
        "        print(\"The correct answer is \", answer, \"\\n\")\n",
        "\n",
        "\n",
        "# One-step divide\n",
        "def one_step_div():\n",
        "    import random\n",
        "    a = random.randint(1,11)\n",
        "    b = random.randint(2,24)\n",
        "    print(\"x/\", a, \" = \", b)\n",
        "    ans = float(input(\"x = \"))\n",
        "    answer = b*a\n",
        "    # test\n",
        "    if ans==answer:\n",
        "        print(\"Correct! \\n\")\n",
        "    else:\n",
        "        print(\"Try again\")\n",
        "        print(\"The correct answer is \", answer, \"\\n\")\n",
        "\n",
        "\n",
        "# Two-step problems\n",
        "def two_step():\n",
        "    import random\n",
        "    # Uses string_frac()\n",
        "    a = random.randint(1,11)\n",
        "    b = random.randint(-7,12)\n",
        "    c = random.randint(2,36)\n",
        "    print(a, \"x + \", b, \" = \", c)\n",
        "    print(\"Round answer to two decimal places\")\n",
        "    ans_in = input(\"x = \")\n",
        "    answer = (c-b)/a\n",
        "    # test\n",
        "    if round(string_frac(ans_in),2)==round(answer,2):\n",
        "        print(\"Correct! \\n\")\n",
        "    else:\n",
        "        print(\"Try again\")\n",
        "        print(\"The correct answer is \", answer, \"\\n\")\n",
        "\n",
        "\n",
        "# test loop\n",
        "for a in range(2):\n",
        "    one_step_add()\n",
        "    one_step_subtract()\n",
        "    one_step_mult()\n",
        "    one_step_div()\n",
        "    two_step()\n",
        "    print(\" \")\n",
        "\n",
        "two_step()\n",
        "two_step()"
      ],
      "metadata": {
        "id": "WZiSvyrD8t_0"
      },
      "execution_count": null,
      "outputs": []
    }
  ]
}